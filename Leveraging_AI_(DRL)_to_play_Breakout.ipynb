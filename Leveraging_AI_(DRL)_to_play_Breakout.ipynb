{
  "cells": [
    {
      "cell_type": "markdown",
      "metadata": {
        "id": "view-in-github",
        "colab_type": "text"
      },
      "source": [
        "<a href=\"https://colab.research.google.com/github/Hira-Nav/DataScienceProjects/blob/main/Leveraging_AI_(DRL)_to_play_Breakout.ipynb\" target=\"_parent\"><img src=\"https://colab.research.google.com/assets/colab-badge.svg\" alt=\"Open In Colab\"/></a>"
      ]
    },
    {
      "cell_type": "markdown",
      "metadata": {
        "id": "lZiolkMM33ii"
      },
      "source": [
        "### DRL - DQN Breakout v0\n",
        "Deep Reinforcement Learning - Deep-Q Network\n",
        "Leveraging AI to learn how to play Breakout to maximise points"
      ]
    },
    {
      "cell_type": "code",
      "execution_count": null,
      "metadata": {
        "id": "xhRVpY12qvzD"
      },
      "outputs": [],
      "source": [
        "#Install Packages\n",
        "\n",
        "#from google.colab import drive\n",
        "#drive.mount('/content/gdrive')\n",
        "#!pip install torch\n",
        "#!pip install -U \"ray[rllib]\" torch\n",
        "\n",
        "#!pip install atari-py\n",
        "#!pip install gym[atari]"
      ]
    },
    {
      "cell_type": "markdown",
      "metadata": {
        "id": "9DmyE2zjr8Lj"
      },
      "source": [
        "## 1. Define Wrapper to use Breakout v0 with RLLib.\n",
        "\n",
        "- Environment wrapper:\n",
        "https://github.com/mgbellemare/Arcade-Learning-Environment\n",
        "- Gym spaces:\n",
        "https://gym.openai.com/docs/\n",
        "\n",
        "\n"
      ]
    },
    {
      "cell_type": "code",
      "execution_count": null,
      "metadata": {
        "id": "GNAS2lX6rtNg"
      },
      "outputs": [],
      "source": [
        "# Import Libraries\n",
        "import gym\n",
        "import random, math\n",
        "import numpy as np\n",
        "import pandas as pd\n",
        "import matplotlib.pyplot as plt\n",
        "\n",
        "import warnings\n",
        "warnings.simplefilter(action='ignore', category=FutureWarning)\n"
      ]
    },
    {
      "cell_type": "code",
      "execution_count": null,
      "metadata": {
        "id": "nH-Ufe-s33il",
        "outputId": "de2a53e9-8544-45b5-b8d1-b8b4b3d807ec"
      },
      "outputs": [
        {
          "name": "stdout",
          "output_type": "stream",
          "text": [
            "['adventure', 'air_raid', 'alien', 'amidar', 'assault', 'asterix', 'asteroids', 'atlantis', 'bank_heist', 'battle_zone', 'beam_rider', 'berzerk', 'bowling', 'boxing', 'breakout', 'carnival', 'centipede', 'chopper_command', 'crazy_climber', 'defender', 'demon_attack', 'double_dunk', 'elevator_action', 'enduro', 'fishing_derby', 'freeway', 'frostbite', 'gopher', 'gravitar', 'hero', 'ice_hockey', 'jamesbond', 'journey_escape', 'kaboom', 'kangaroo', 'krull', 'kung_fu_master', 'montezuma_revenge', 'ms_pacman', 'name_this_game', 'phoenix', 'pitfall', 'pong', 'pooyan', 'private_eye', 'qbert', 'riverraid', 'road_runner', 'robotank', 'seaquest', 'skiing', 'solaris', 'space_invaders', 'star_gunner', 'tennis', 'time_pilot', 'tutankham', 'up_n_down', 'venture', 'video_pinball', 'wizard_of_wor', 'yars_revenge', 'zaxxon']\n"
          ]
        }
      ],
      "source": [
        "# List games\n",
        "import atari_py\n",
        "print(atari_py.list_games())"
      ]
    },
    {
      "cell_type": "code",
      "execution_count": null,
      "metadata": {
        "id": "6O8JpJHz33im",
        "outputId": "1e7bf978-55ca-4515-fb53-7ccf49a4cfbb"
      },
      "outputs": [
        {
          "name": "stdout",
          "output_type": "stream",
          "text": [
            "Number of actions: \n",
            " Discrete(4)\n",
            "State shape, type: \n",
            " (210, 160, 3)\n",
            "['NOOP', 'FIRE', 'RIGHT', 'LEFT']\n"
          ]
        }
      ],
      "source": [
        "#Explore Environment\n",
        "env = gym.make('Breakout-v0')\n",
        "obs = env.reset()\n",
        "#env.render()\n",
        "print('Number of actions: \\n', env.action_space)\n",
        "print('State shape, type: \\n', env.observation_space.shape)\n",
        "print(env.unwrapped.get_action_meanings())"
      ]
    },
    {
      "cell_type": "markdown",
      "metadata": {
        "id": "QauOX-mbyqp_"
      },
      "source": [
        "### 2. Define and train Basic DQN algorithm.\n",
        "\n",
        "You can take inspiration from:\n",
        "https://docs.ray.io/en/latest/rllib/rllib-training.html#basic-python-api\n",
        "\n",
        "Experiment with the different parameters of the configuration:\n",
        "https://docs.ray.io/en/latest/rllib/rllib-algorithms.html#deep-q-networks-dqn-rainbow-parametric-dqn\n",
        "\n",
        "\n",
        "\n"
      ]
    },
    {
      "cell_type": "code",
      "execution_count": null,
      "metadata": {
        "id": "N3SLeKwjxz6S"
      },
      "outputs": [],
      "source": [
        "#Import more libraries\n",
        "\n",
        "from gym.spaces import Discrete, Box\n",
        "import ray\n",
        "from ray import tune\n",
        "import ray.rllib.agents.dqn as dqn\n",
        "from ray.tune.logger import pretty_print\n",
        "from ray.rllib.env.env_context import EnvContext\n",
        "from ray.rllib.models import ModelCatalog\n",
        "\n",
        "from gym.spaces import Discrete, Box"
      ]
    },
    {
      "cell_type": "code",
      "execution_count": null,
      "metadata": {
        "colab": {
          "base_uri": "https://localhost:8080/"
        },
        "outputId": "87f03ac8-6a51-4d0d-c2b7-51288864d9d5",
        "id": "epQxpGT833in"
      },
      "outputs": [
        {
          "ename": "SyntaxError",
          "evalue": "invalid syntax (<ipython-input-5-0b55a3d6232a>, line 8)",
          "output_type": "error",
          "traceback": [
            "\u001b[1;36m  File \u001b[1;32m\"<ipython-input-5-0b55a3d6232a>\"\u001b[1;36m, line \u001b[1;32m8\u001b[0m\n\u001b[1;33m    config[\"num_workers\"] =\u001b[0m\n\u001b[1;37m                            ^\u001b[0m\n\u001b[1;31mSyntaxError\u001b[0m\u001b[1;31m:\u001b[0m invalid syntax\n"
          ]
        }
      ],
      "source": [
        "#Configure setting for DQN Basic\n",
        "\n",
        "config = dqn.DEFAULT_CONFIG.copy()\n",
        "config[\"env\"] = 'Breakout-v0'\n",
        "config[\"framework\"] = \"torch\"\n",
        "config[\"dueling\"] = False\n",
        "config[\"double_q\"] = False\n",
        "config[\"num_workers\"] = 2\n",
        "config[\"model\"] = {\"fcnet_hiddens\":[64,64],\n",
        "                   \"fcnet_activation\":\"relu\"}\n",
        "dqn_basic = dqn.DQNTrainer(config=config)"
      ]
    },
    {
      "cell_type": "markdown",
      "metadata": {
        "id": "CeTNM9Tg33in"
      },
      "source": [
        "### 3. Hyperparameter tuning using Ray Tune"
      ]
    },
    {
      "cell_type": "code",
      "execution_count": null,
      "metadata": {
        "id": "2aiOEfwi33in"
      },
      "outputs": [],
      "source": [
        "### 1. Tuning - Evaluation and objective function"
      ]
    },
    {
      "cell_type": "code",
      "execution_count": null,
      "metadata": {
        "id": "3fQhxxi98ECW"
      },
      "outputs": [],
      "source": [
        "import ray\n",
        "from ray import tune\n",
        "import ray.rllib.agents.dqn as dqn\n",
        "from ray.tune.logger import pretty_print\n",
        "\n",
        "\n",
        "def evaluation_fn(result):\n",
        "    return result['episode_reward_mean']\n",
        "\n",
        "def objective_fn(config):\n",
        "\n",
        "    trainer = dqn.DQNTrainer(config=config)\n",
        "\n",
        "    for i in range(200):\n",
        "        # Perform one iteration of training the policy with DQN\n",
        "        result = trainer.train()\n",
        "        intermediate_score = evaluation_fn(result)\n",
        "\n",
        "         # Feed the score back back to Tune.\n",
        "        tune.report(iterations=i, mean_reward=intermediate_score)\n",
        ""
      ]
    },
    {
      "cell_type": "code",
      "execution_count": null,
      "metadata": {
        "id": "W4B6wKjH33io"
      },
      "outputs": [],
      "source": [
        "## 2. Optimization loop\n",
        "config = dqn.DEFAULT_CONFIG.copy()\n",
        "config[\"dueling\"] = tune.grid_search([True, False])\n",
        "config[\"double_q\"] = tune.grid_search([True, False])\n",
        "config[\"env\"] = 'Breakout-v0'\n",
        "config[\"model\"] = { \"fcnet_hiddens\": ([[128, 128], [64, 64]]),\n",
        "                    \"fcnet_activation\": {'relu','tanh'}\n",
        "config[\"gamma\"] = tune.grid_search([0.9,0.99])\n",
        "config[\"lr\"] = tune.grid_search([0.0001,0.00001])\n",
        "config[\"initial_epsilon\"] = tune.grid_search([0.99,1])\n",
        "config[\"num_workers\"] = 2\n",
        "#config[\"evaluation_duration\"] = 200"
      ]
    },
    {
      "cell_type": "code",
      "execution_count": null,
      "metadata": {
        "id": "wpDIRcXK33io"
      },
      "outputs": [],
      "source": [
        "analysis = tune.run(\n",
        "        objective_fn,\n",
        "        metric=\"mean_reward\",\n",
        "\n",
        "        stop={\"training_iteration\": 10},\n",
        "        mode=\"max\",\n",
        "        num_samples=3,\n",
        "        config=config)\n",
        "\n",
        "\n",
        "print(\"Best hyperparameters found were: \", analysis.get_best_config(metric=\"score\", mode=\"max\"))"
      ]
    },
    {
      "cell_type": "code",
      "execution_count": null,
      "metadata": {
        "id": "TJP7G50U33io",
        "outputId": "358a0032-f8b2-4e0a-b6fb-9621d3434469"
      },
      "outputs": [
        {
          "ename": "NameError",
          "evalue": "name 'analysis' is not defined",
          "output_type": "error",
          "traceback": [
            "\u001b[1;31m---------------------------------------------------------------------------\u001b[0m",
            "\u001b[1;31mNameError\u001b[0m                                 Traceback (most recent call last)",
            "\u001b[1;32m<ipython-input-8-79fbaaee09b9>\u001b[0m in \u001b[0;36m<module>\u001b[1;34m\u001b[0m\n\u001b[1;32m----> 1\u001b[1;33m \u001b[0mdf\u001b[0m \u001b[1;33m=\u001b[0m \u001b[0manalysis\u001b[0m\u001b[1;33m.\u001b[0m\u001b[0mdataframe\u001b[0m\u001b[1;33m(\u001b[0m\u001b[0mmetric\u001b[0m\u001b[1;33m=\u001b[0m\u001b[1;34m\"mean_reward\"\u001b[0m\u001b[1;33m,\u001b[0m \u001b[0mmode\u001b[0m\u001b[1;33m=\u001b[0m\u001b[1;34m\"max\"\u001b[0m\u001b[1;33m)\u001b[0m\u001b[1;33m\u001b[0m\u001b[1;33m\u001b[0m\u001b[0m\n\u001b[0m\u001b[0;32m      2\u001b[0m \u001b[0mdf\u001b[0m\u001b[1;33m[\u001b[0m\u001b[1;33m[\u001b[0m\u001b[1;34m'config/gamma'\u001b[0m\u001b[1;33m,\u001b[0m \u001b[1;34m'config/double_q'\u001b[0m\u001b[1;33m,\u001b[0m \u001b[1;34m'config/dueling'\u001b[0m\u001b[1;33m,\u001b[0m \u001b[1;34m'mean_reward'\u001b[0m\u001b[1;33m]\u001b[0m\u001b[1;33m]\u001b[0m\u001b[1;33m\u001b[0m\u001b[1;33m\u001b[0m\u001b[0m\n",
            "\u001b[1;31mNameError\u001b[0m: name 'analysis' is not defined"
          ]
        }
      ],
      "source": [
        "## 3 Analyse Best params results on\n",
        "\n",
        "df = analysis.dataframe(metric=\"mean_reward\", mode=\"max\")\n",
        "df[['config/gamma', 'config/double_q', 'config/dueling', 'mean_reward']]"
      ]
    },
    {
      "cell_type": "markdown",
      "metadata": {
        "id": "BpKH6I3q33io"
      },
      "source": [
        "### 4. Comparative Anlaysis on differnet DQN models"
      ]
    },
    {
      "cell_type": "code",
      "execution_count": null,
      "metadata": {
        "colab": {
          "base_uri": "https://localhost:8080/"
        },
        "outputId": "87f03ac8-6a51-4d0d-c2b7-51288864d9d5",
        "id": "YYRIPgT_33io"
      },
      "outputs": [
        {
          "name": "stderr",
          "output_type": "stream",
          "text": [
            "2022-04-24 09:54:09,116\tWARNING util.py:55 -- Install gputil for GPU system monitoring.\n"
          ]
        }
      ],
      "source": [
        "#Configure setting for Double DQN (DDQN)\n",
        "config = dqn.DEFAULT_CONFIG.copy()\n",
        "config[\"env\"] = 'Breakout-v0'\n",
        "config[\"framework\"] = \"torch\"\n",
        "config[\"dueling\"] = False\n",
        "config[\"double_q\"] = True\n",
        "config[\"num_workers\"] = 2\n",
        "config[\"model\"] = {\"fcnet_hiddens\":[64,64],\n",
        "                   \"fcnet_activation\":\"relu\"}\n",
        "\n",
        "ddqn = dqn.DQNTrainer(config=config)"
      ]
    },
    {
      "cell_type": "code",
      "execution_count": null,
      "metadata": {
        "id": "fDlBax2i33io",
        "outputId": "3039804f-baac-4083-d5c1-e19e643ac91f"
      },
      "outputs": [
        {
          "name": "stderr",
          "output_type": "stream",
          "text": [
            "2022-04-24 11:30:27,145\tWARNING util.py:55 -- Install gputil for GPU system monitoring.\n"
          ]
        }
      ],
      "source": [
        "#Configure setting for Deuling DQN (DDQN)\n",
        "config = dqn.DEFAULT_CONFIG.copy()\n",
        "config[\"env\"] = 'Breakout-v0'\n",
        "config[\"framework\"] = \"torch\"\n",
        "config[\"dueling\"] = True\n",
        "config[\"double_q\"] = False\n",
        "config[\"num_workers\"] = 2\n",
        "config[\"model\"] = {\"fcnet_hiddens\":[128,128],\n",
        "                   \"fcnet_activation\":\"relu\"}\n",
        "\n",
        "dueldqn = dqn.DQNTrainer(config=config)"
      ]
    },
    {
      "cell_type": "code",
      "execution_count": null,
      "metadata": {
        "colab": {
          "base_uri": "https://localhost:8080/"
        },
        "outputId": "87f03ac8-6a51-4d0d-c2b7-51288864d9d5",
        "id": "mWrlb7ca33ip"
      },
      "outputs": [
        {
          "name": "stderr",
          "output_type": "stream",
          "text": [
            "2022-04-24 10:17:20,617\tINFO trainable.py:127 -- Trainable.setup took 11.041 seconds. If your trainable is slow to initialize, consider setting reuse_actors=True to reduce actor creation overheads.\n",
            "2022-04-24 10:17:20,619\tWARNING util.py:55 -- Install gputil for GPU system monitoring.\n"
          ]
        }
      ],
      "source": [
        "#Configure setting for Deuling DDQN (DDDQN)\n",
        "\n",
        "config = dqn.DEFAULT_CONFIG.copy()\n",
        "config[\"env\"] = 'Breakout-v0'\n",
        "config[\"framework\"] = \"torch\"\n",
        "config[\"dueling\"] = True\n",
        "config[\"double_q\"] = True\n",
        "config[\"num_workers\"] = 1\n",
        "config[\"model\"] = {\"fcnet_hiddens\":[64,64],\n",
        "                   \"fcnet_activation\":\"relu\"}\n",
        "dddqn = dqn.DQNTrainer(config=config)"
      ]
    },
    {
      "cell_type": "code",
      "execution_count": null,
      "metadata": {
        "colab": {
          "base_uri": "https://localhost:8080/"
        },
        "outputId": "87f03ac8-6a51-4d0d-c2b7-51288864d9d5",
        "id": "UYx-VjT-33ip"
      },
      "outputs": [
        {
          "name": "stderr",
          "output_type": "stream",
          "text": [
            "2022-04-24 11:13:52,153\tINFO trainable.py:127 -- Trainable.setup took 12.090 seconds. If your trainable is slow to initialize, consider setting reuse_actors=True to reduce actor creation overheads.\n",
            "2022-04-24 11:13:52,155\tWARNING util.py:55 -- Install gputil for GPU system monitoring.\n"
          ]
        }
      ],
      "source": [
        "#Configure setting for Best Param's DQN ()\n",
        "config = dqn.DEFAULT_CONFIG.copy()\n",
        "config[\"dueling\"] = True\n",
        "config[\"double_q\"] = True\n",
        "config[\"env\"] = 'Breakout-v0'\n",
        "config[\"model\"] = { \"fcnet_hiddens\": [128, 128],\n",
        "                    \"fcnet_activation\": 'relu',}\n",
        "config[\"gamma\"] = 0.99\n",
        "config[\"lr\"] = 0.00001\n",
        "config[\"num_workers\"] = 2\n",
        "\n",
        "dqn_best = dqn.DQNTrainer(config=config)"
      ]
    },
    {
      "cell_type": "markdown",
      "metadata": {
        "id": "YWhfqVd033ip"
      },
      "source": [
        "### 5. Train remainder RL model types and compare"
      ]
    },
    {
      "cell_type": "code",
      "execution_count": null,
      "metadata": {
        "colab": {
          "base_uri": "https://localhost:8080/"
        },
        "outputId": "87f03ac8-6a51-4d0d-c2b7-51288864d9d5",
        "id": "KDadRUs033ip"
      },
      "outputs": [
        {
          "name": "stdout",
          "output_type": "stream",
          "text": [
            "checkpoint saved at  0  episodes 0.5\n",
            "checkpoint saved at  10  episodes 1.3191489361702127\n",
            "checkpoint saved at  20  episodes 1.4505494505494505\n",
            "checkpoint saved at  30  episodes 1.74\n",
            "checkpoint saved at  40  episodes 1.91\n",
            "checkpoint saved at  50  episodes 1.9\n",
            "checkpoint saved at  60  episodes 2.17\n",
            "checkpoint saved at  70  episodes 2.54\n",
            "checkpoint saved at  80  episodes 2.88\n",
            "checkpoint saved at  90  episodes 3.16\n",
            "checkpoint saved at  100  episodes 3.63\n"
          ]
        }
      ],
      "source": [
        "import pandas as pd\n",
        "#train_models = {'model_name':['dqn_basic','ddqn','dueldqn','dddqn','dqn_best'],\n",
        "#                'type':[dqn_basic,ddqn,dueldqn,dddqn,dqn_best]}\n",
        "train_models = {'model_name':['dueldqn'],\n",
        "                'type':[dueldqn]}\n",
        "df = pd.DataFrame(train_models)\n",
        "#define lists\n",
        "data_list = []\n",
        "episodes=101\n",
        "\n",
        "#Define dataframe for plots\n",
        "data = pd.DataFrame(columns = ['model','episode','avg_rewards'])\n",
        "\n",
        "# Can optionally call trainer.restore(path) to load a checkpoint.\n",
        "for index, row in df.iterrows():\n",
        "    model_name = row[\"model_name\"]\n",
        "\n",
        "    for x in range(episodes):\n",
        "        # Perform one iteration of training the policy with DQN\n",
        "        result = row[\"type\"].train()\n",
        "        avg_rewards = result['episode_reward_mean']\n",
        "\n",
        "        if x % 10 == 0:\n",
        "#            checkpoint = 'checkpoint'.save()\n",
        "            print(\"checkpoint saved at \",x,\" episodes\",avg_rewards)\n",
        "\n",
        "        data_list = [model_name,x,avg_rewards]  #Rolling average lst 7 episodes (week6 labs)\n",
        "        temporary_df = pd.DataFrame([data_list], columns=['model','episode','avg_rewards'])\n",
        "        data = data.append(temporary_df, ignore_index=True)\n",
        "\n",
        "data.to_csv('data_5.csv')"
      ]
    },
    {
      "cell_type": "code",
      "execution_count": null,
      "metadata": {
        "id": "QGxFf6ga33ip",
        "outputId": "8dd8dec2-beb9-4fcb-9a22-2fd357b39921"
      },
      "outputs": [
        {
          "data": {
            "text/html": [
              "<div>\n",
              "<style scoped>\n",
              "    .dataframe tbody tr th:only-of-type {\n",
              "        vertical-align: middle;\n",
              "    }\n",
              "\n",
              "    .dataframe tbody tr th {\n",
              "        vertical-align: top;\n",
              "    }\n",
              "\n",
              "    .dataframe thead th {\n",
              "        text-align: right;\n",
              "    }\n",
              "</style>\n",
              "<table border=\"1\" class=\"dataframe\">\n",
              "  <thead>\n",
              "    <tr style=\"text-align: right;\">\n",
              "      <th></th>\n",
              "      <th>Unnamed: 0</th>\n",
              "      <th>model</th>\n",
              "      <th>episode</th>\n",
              "      <th>avg_rewards</th>\n",
              "    </tr>\n",
              "  </thead>\n",
              "  <tbody>\n",
              "    <tr>\n",
              "      <th>0</th>\n",
              "      <td>0</td>\n",
              "      <td>dueldqn</td>\n",
              "      <td>0.0</td>\n",
              "      <td>0.500000</td>\n",
              "    </tr>\n",
              "    <tr>\n",
              "      <th>1</th>\n",
              "      <td>1</td>\n",
              "      <td>dueldqn</td>\n",
              "      <td>1.0</td>\n",
              "      <td>0.875000</td>\n",
              "    </tr>\n",
              "    <tr>\n",
              "      <th>2</th>\n",
              "      <td>2</td>\n",
              "      <td>dueldqn</td>\n",
              "      <td>2.0</td>\n",
              "      <td>1.454545</td>\n",
              "    </tr>\n",
              "    <tr>\n",
              "      <th>3</th>\n",
              "      <td>3</td>\n",
              "      <td>dueldqn</td>\n",
              "      <td>3.0</td>\n",
              "      <td>1.400000</td>\n",
              "    </tr>\n",
              "    <tr>\n",
              "      <th>4</th>\n",
              "      <td>4</td>\n",
              "      <td>dueldqn</td>\n",
              "      <td>4.0</td>\n",
              "      <td>1.550000</td>\n",
              "    </tr>\n",
              "    <tr>\n",
              "      <th>...</th>\n",
              "      <td>...</td>\n",
              "      <td>...</td>\n",
              "      <td>...</td>\n",
              "      <td>...</td>\n",
              "    </tr>\n",
              "    <tr>\n",
              "      <th>96</th>\n",
              "      <td>96</td>\n",
              "      <td>dqn_best</td>\n",
              "      <td>96.0</td>\n",
              "      <td>6.320000</td>\n",
              "    </tr>\n",
              "    <tr>\n",
              "      <th>97</th>\n",
              "      <td>97</td>\n",
              "      <td>dqn_best</td>\n",
              "      <td>97.0</td>\n",
              "      <td>6.400000</td>\n",
              "    </tr>\n",
              "    <tr>\n",
              "      <th>98</th>\n",
              "      <td>98</td>\n",
              "      <td>dqn_best</td>\n",
              "      <td>98.0</td>\n",
              "      <td>6.440000</td>\n",
              "    </tr>\n",
              "    <tr>\n",
              "      <th>99</th>\n",
              "      <td>99</td>\n",
              "      <td>dqn_best</td>\n",
              "      <td>99.0</td>\n",
              "      <td>6.520000</td>\n",
              "    </tr>\n",
              "    <tr>\n",
              "      <th>100</th>\n",
              "      <td>100</td>\n",
              "      <td>dqn_best</td>\n",
              "      <td>100.0</td>\n",
              "      <td>6.530000</td>\n",
              "    </tr>\n",
              "  </tbody>\n",
              "</table>\n",
              "<p>505 rows × 4 columns</p>\n",
              "</div>"
            ],
            "text/plain": [
              "     Unnamed: 0     model  episode  avg_rewards\n",
              "0             0   dueldqn      0.0     0.500000\n",
              "1             1   dueldqn      1.0     0.875000\n",
              "2             2   dueldqn      2.0     1.454545\n",
              "3             3   dueldqn      3.0     1.400000\n",
              "4             4   dueldqn      4.0     1.550000\n",
              "..          ...       ...      ...          ...\n",
              "96           96  dqn_best     96.0     6.320000\n",
              "97           97  dqn_best     97.0     6.400000\n",
              "98           98  dqn_best     98.0     6.440000\n",
              "99           99  dqn_best     99.0     6.520000\n",
              "100         100  dqn_best    100.0     6.530000\n",
              "\n",
              "[505 rows x 4 columns]"
            ]
          },
          "execution_count": 15,
          "metadata": {},
          "output_type": "execute_result"
        }
      ],
      "source": [
        "import pandas as pd\n",
        "df1 = pd.read_csv('data_1.csv')\n",
        "df1[\"model\"].replace({\"dqn_basic\": \"dqn_best\"}, inplace=True)\n",
        "df2 = pd.read_csv('data_2.csv')\n",
        "df3 = pd.read_csv('data_3.csv')\n",
        "df4 = pd.read_csv('data_4.csv')\n",
        "df4[\"model\"].replace({\"dqn_best\": \"dqn_basic\"}, inplace=True)\n",
        "df_main = pd.read_csv('data_5.csv')\n",
        "\n",
        "df2 = df2.append(df1)\n",
        "df3 = df3.append(df2)\n",
        "df4 = df4.append(df3)\n",
        "df_main = df_main.append(df4)\n",
        "\n",
        "\n",
        "df_main['avg_rewards'] = df_main['avg_rewards'].astype(float)\n",
        "df_main['episode'] = df_main['episode'].astype(float)\n",
        "df_main"
      ]
    },
    {
      "cell_type": "code",
      "execution_count": null,
      "metadata": {
        "id": "JBJODRwO33ip",
        "outputId": "c43f982d-c797-41a7-aaf4-0520fdf653cd"
      },
      "outputs": [
        {
          "data": {
            "text/plain": [
              "[Text(0.5, 1.0, 'DQN Performances - Average Rewards vs Episodes')]"
            ]
          },
          "execution_count": 16,
          "metadata": {},
          "output_type": "execute_result"
        },
        {
          "data": {
            "image/png": "[encoded data removed]",
            "text/plain": [
              "<Figure size 1152x576 with 1 Axes>"
            ]
          },
          "metadata": {},
          "output_type": "display_data"
        }
      ],
      "source": [
        "import seaborn as sns\n",
        "plt.figure(figsize=(16,8))\n",
        "sns.set(font_scale=2)\n",
        "sns.lineplot(data=df_main, x=\"episode\", y =\"avg_rewards\", hue = 'model',ci=None,\n",
        "             palette = \"tab10\").set(title='DQN Performances - Average Rewards vs Episodes')"
      ]
    }
  ],
  "metadata": {
    "colab": {
      "provenance": [],
      "toc_visible": true,
      "include_colab_link": true
    },
    "kernelspec": {
      "display_name": ".venv",
      "language": "python",
      "name": ".venv"
    },
    "language_info": {
      "codemirror_mode": {
        "name": "ipython",
        "version": 3
      },
      "file_extension": ".py",
      "mimetype": "text/x-python",
      "name": "python",
      "nbconvert_exporter": "python",
      "pygments_lexer": "ipython3",
      "version": "3.8.5"
    }
  },
  "nbformat": 4,
  "nbformat_minor": 0
}
